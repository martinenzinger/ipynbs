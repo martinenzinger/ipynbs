{
 "cells": [
  {
   "cell_type": "code",
   "execution_count": null,
   "metadata": {
    "colab": {},
    "colab_type": "code",
    "id": "LQ6JUuCm4Ihc"
   },
   "outputs": [],
   "source": [
    "!pip install pillow\n",
    "!pip install tqdm retrowrapper gym-retro\n",
    "# copy your roms to data/roms/\n",
    "\n",
    "import retro\n",
    "!python -m retro.import data/roms/"
   ]
  },
  {
   "cell_type": "code",
   "execution_count": 2,
   "metadata": {
    "cellView": "both",
    "colab": {
     "base_uri": "https://localhost:8080/",
     "height": 472
    },
    "colab_type": "code",
    "id": "2c7EUvr_Y4-i",
    "outputId": "7b843c24-bd21-48cc-ca2a-7fd86b8bfa6b"
   },
   "outputs": [
    {
     "data": {
      "text/html": [
       "<div><img id='gymscr' style='width:700px;height:520px;background-color:#000;' src='data:image/png;base64,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'></div><script>Jupyter.notebook.kernel.comm_manager.register_target('gymscreen', function(comm, msg) { comm.on_msg(function(msg) { document.getElementById('gymscr').src = 'data:image/png;base64,'+msg.content.data.img_data; }); });</script>"
      ],
      "text/plain": [
       "<IPython.core.display.HTML object>"
      ]
     },
     "metadata": {},
     "output_type": "display_data"
    }
   ],
   "source": [
    "from IPython import display\n",
    "from ipykernel.comm import Comm\n",
    "import numpy as np\n",
    "import PIL.Image\n",
    "import io\n",
    "import retro\n",
    "import base64\n",
    "\n",
    "selected_game = 'SonicTheHedgehog-Genesis' #@param [\"SonicTheHedgehog-Genesis\", \"SonicTheHedgehog2-Genesis\", \"SonicAndKnuckles3-Genesis\"] {allow-input: true}\n",
    "\n",
    "def showarray(a, fmt='png'):\n",
    "    a = np.uint8(a)\n",
    "    f = io.BytesIO()\n",
    "    ima = PIL.Image.fromarray(a).save(f, fmt)\n",
    "    return base64.b64encode(f.getvalue()).decode('ascii')\n",
    "\n",
    "\n",
    "nrplayers = 1\n",
    "verbosity = 0\n",
    "\n",
    "\n",
    "env = retro.make(game=selected_game, record=False, players=nrplayers)\n",
    "env.reset()\n",
    "\n",
    "imagedata = showarray(env.render(mode='rgb_array'))\n",
    "\n",
    "jsc = \"Jupyter.notebook.kernel.comm_manager.register_target('gymscreen', function(comm, msg) { comm.on_msg(function(msg) { document.getElementById('gymscr').src = 'data:image/png;base64,'+msg.content.data.img_data; }); });\"\n",
    "\n",
    "imagehandle = display.display(display.HTML(\"<div><img id='gymscr' style='width:700px;height:520px;background-color:#000;' src='data:image/png;base64,\"+imagedata+\"'></div><script>\"+jsc+\"</script>\"), display_id='gymscreen_container')\n",
    "\n",
    "my_comm = Comm(target_name='gymscreen', data={'img_data': imagedata})\n",
    "\n",
    "\n",
    "\n",
    "try:\n",
    "    while True:\n",
    "        ob = env.reset()\n",
    "        t = 0\n",
    "        totrew = [0] * nrplayers\n",
    "        while True:\n",
    "            ac = env.action_space.sample()\n",
    "            ob, rew, done, info = env.step(ac)\n",
    "            t += 1\n",
    "            if t % 3 == 0:\n",
    "                my_comm.send({'img_data': imagedata })\n",
    "            else:\n",
    "                imagedata = showarray(env.render(mode='rgb_array'))\n",
    "            if t % 10 == 0:\n",
    "                if verbosity > 1:\n",
    "                    infostr = ''\n",
    "                    if info:\n",
    "                        infostr = ', info: ' + ', '.join(['%s=%i' % (k, v) for k, v in info.items()])\n",
    "                    print(('t=%i' % t) + infostr)\n",
    "            if nrplayers == 1:\n",
    "                rew = [rew]\n",
    "            for i, r in enumerate(rew):\n",
    "                totrew[i] += r\n",
    "                if verbosity > 0:\n",
    "                    if r > 0:\n",
    "                        print('t=%i p=%i got reward: %g, current reward: %g' % (t, i, r, totrew[i]))\n",
    "                    if r < 0:\n",
    "                        print('t=%i p=%i got penalty: %g, current reward: %g' % (t, i, r, totrew[i]))\n",
    "            if done:\n",
    "                endmsg = ''\n",
    "                try:\n",
    "                    if verbosity >= 0:\n",
    "                        if args.players > 1:\n",
    "                            endmsg = \"done! total reward: time=%i, reward=%r\" % (t, totrew)\n",
    "                        else:\n",
    "                            endmsg = \"done! total reward: time=%i, reward=%d\" % (t, totrew[0])\n",
    "                        input(\"press enter to continue\")\n",
    "                        env.close()\n",
    "                        print()\n",
    "                    else:\n",
    "                        input(\"\")\n",
    "                except EOFError:\n",
    "                    env.close\n",
    "                    exit(0)\n",
    "                break\n",
    "except KeyboardInterrupt:\n",
    "    env.close()\n",
    "    exit(0)"
   ]
  },
  {
   "cell_type": "code",
   "execution_count": null,
   "metadata": {},
   "outputs": [],
   "source": []
  }
 ],
 "metadata": {
  "accelerator": "GPU",
  "colab": {
   "collapsed_sections": [],
   "include_colab_link": true,
   "name": "Copy of Gym Retro.ipynb",
   "provenance": [],
   "version": "0.3.2"
  },
  "kernelspec": {
   "display_name": "Python 3",
   "language": "python",
   "name": "python3"
  },
  "language_info": {
   "codemirror_mode": {
    "name": "ipython",
    "version": 3
   },
   "file_extension": ".py",
   "mimetype": "text/x-python",
   "name": "python",
   "nbconvert_exporter": "python",
   "pygments_lexer": "ipython3",
   "version": "3.6.6"
  }
 },
 "nbformat": 4,
 "nbformat_minor": 1
}
